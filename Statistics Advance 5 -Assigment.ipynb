{
 "cells": [
  {
   "cell_type": "code",
   "execution_count": 1,
   "id": "3989e645-5577-473e-a006-4a4ec989e58c",
   "metadata": {},
   "outputs": [],
   "source": [
    "## Jai Maa Saraswati ::"
   ]
  },
  {
   "cell_type": "markdown",
   "id": "2f8c0b3e-a2e7-4bb2-8eb5-ff0ec2b908a4",
   "metadata": {},
   "source": [
    "Q1. Calculate the 95% confidence interval for a sample of data with a mean of 50 and a standard deviation\n",
    "of 5 using Python. Interpret the results."
   ]
  },
  {
   "cell_type": "code",
   "execution_count": 4,
   "id": "fd1ab063-941f-4dde-b05a-40f445c2199b",
   "metadata": {},
   "outputs": [
    {
     "name": "stdout",
     "output_type": "stream",
     "text": [
      "95% Confidence Interval\n",
      "(49.02001800772997, 50.97998199227003)\n"
     ]
    }
   ],
   "source": [
    "import scipy.stats as stats\n",
    "\n",
    "# Sample Mean & Standard Deviation :\n",
    "sample_mean = 50\n",
    "sample_std = 5\n",
    "\n",
    "# Sample Size \n",
    "sample_size = 100 # Let us Assuming the Sample Size Because the Sample size is Unknown\n",
    "\n",
    "# Calculate the Standard Error of Mean(SEM)\n",
    "sem = sample_std / (sample_size ** 0.5)\n",
    "\n",
    "# Calculate the 95% Confidence Interval :\n",
    "confidence_interval = stats.norm.interval(0.95 , loc = sample_mean , scale = sem)\n",
    "\n",
    "# Show the Result\n",
    "print(\"95% Confidence Interval\")\n",
    "print(confidence_interval)"
   ]
  },
  {
   "cell_type": "markdown",
   "id": "f17536ac-d3b4-427c-b8ff-39a9f6b08a5b",
   "metadata": {},
   "source": [
    "Q2. Conduct a chi-square goodness of fit test to determine if the distribution of colors of M&Ms in a bag\n",
    "matches the expected distribution of 20% blue, 20% orange, 20% green, 10% yellow, 10% red, and 20%\n",
    "brown. Use Python to perform the test with a significance level of 0.05."
   ]
  },
  {
   "cell_type": "code",
   "execution_count": 11,
   "id": "c13186b5-21e5-4934-a7db-f3ce56345ba3",
   "metadata": {},
   "outputs": [
    {
     "ename": "ValueError",
     "evalue": "too many values to unpack (expected 2)",
     "output_type": "error",
     "traceback": [
      "\u001b[0;31m---------------------------------------------------------------------------\u001b[0m",
      "\u001b[0;31mValueError\u001b[0m                                Traceback (most recent call last)",
      "Cell \u001b[0;32mIn[11], line 14\u001b[0m\n\u001b[1;32m     11\u001b[0m expected_counts \u001b[38;5;241m=\u001b[39m expected_proportions \u001b[38;5;241m*\u001b[39m total_count\n\u001b[1;32m     13\u001b[0m \u001b[38;5;66;03m# Perform the Chi-Square Test\u001b[39;00m\n\u001b[0;32m---> 14\u001b[0m chi2_stat , p_val \u001b[38;5;241m=\u001b[39m chi2_contingency([observed_counts,expected_counts])\n\u001b[1;32m     16\u001b[0m \u001b[38;5;66;03m# Degree of Freedom\u001b[39;00m\n\u001b[1;32m     17\u001b[0m df \u001b[38;5;241m=\u001b[39m \u001b[38;5;28mlen\u001b[39m(observed_counts)\u001b[38;5;241m-\u001b[39m\u001b[38;5;241m1\u001b[39m\n",
      "\u001b[0;31mValueError\u001b[0m: too many values to unpack (expected 2)"
     ]
    }
   ],
   "source": [
    "import numpy as np\n",
    "from scipy.stats import chi2_contingency\n",
    "\n",
    "# Observed Counts of M & MS colors \n",
    "observed_counts = np.array([18, 22, 15, 8, 9, 28]) # Blue , Orange , Green , Yellow , Red , Brown \n",
    "\n",
    "# Expected Proportions (Convert into the Counts Based on the observed Counts )\n",
    "total_count = observed_counts.sum()\n",
    "\n",
    "expected_proportions = np.array([0.2, 0.2, 0.2, 0.1, 0.1, 0.2])\n",
    "expected_counts = expected_proportions * total_count\n",
    "\n",
    "# Perform the Chi-Square Test\n",
    "chi2_stat , p_val = chi2_contingency([observed_counts,expected_counts])\n",
    "\n",
    "# Degree of Freedom\n",
    "df = len(observed_counts)-1\n",
    "\n",
    "# Critical Value for 0.05 Significance Level\n",
    "critical_value = stats.chi2.ppf(0.95,df)\n",
    "\n",
    "# Print the Results\n",
    "print(f\"Chi-Square Statistics : {chi2_stat}\")\n",
    "print(f\"P-Value:{p_val}\")\n",
    "print(f\"Degree of freedom :{df}\")\n",
    "print(f\"Critical Value (0.05 Significance Level):{critical_value}\")\n",
    "\n",
    "# Conclusion\n",
    "if chi2_stat > critical_value:\n",
    "    print(\"Reject the Null Hypothesis : The observed distribution differs significantly from the expected distribution.\")\n",
    "else :\n",
    "    print(\"Failed to Reject the Null Hypothesis : The observed distribution matches the expected distribution\")"
   ]
  },
  {
   "cell_type": "markdown",
   "id": "ec470ae0-611d-44cf-a4ff-def8cfd45b25",
   "metadata": {},
   "source": [
    "Sir I Execute the Above Code many times but i can't Understand why they are not Executing ::"
   ]
  },
  {
   "cell_type": "markdown",
   "id": "2d0f5fb8-2d94-4a0e-b52d-460c8048be3a",
   "metadata": {},
   "source": [
    "Q3. Use Python to calculate the chi-square statistic and p-value for a contingency table with the following\n",
    "data: \n",
    "Outcome 1 20 15\n",
    "Outcome 2 10 25\n",
    "Outcome 3 15 20"
   ]
  },
  {
   "cell_type": "code",
   "execution_count": 15,
   "id": "c921e0d5-15c9-4100-ad0c-20114c813492",
   "metadata": {},
   "outputs": [
    {
     "name": "stdout",
     "output_type": "stream",
     "text": [
      "Chi-Square Statistics:5.833333333333334\n",
      "P-Value:0.05411376622282158\n",
      "Degree_OF_Freedom:2\n",
      "Expected Frequnicies\n",
      "[[15. 20.]\n",
      " [15. 20.]\n",
      " [15. 20.]]\n",
      "Failed To Reject the Null Hypothesis :There is no significant association between outcomes and groups\n"
     ]
    }
   ],
   "source": [
    "import numpy as np\n",
    "from scipy.stats import chi2_contingency\n",
    "\n",
    "# Define the Observed Frequency\n",
    "observed = np.array([[20,15],\n",
    "                    [10,25],\n",
    "                    [15,20]])\n",
    "\n",
    "# Perfrom the Chi_Square Test\n",
    "chi2_stat , p_val , dof , expected = chi2_contingency(observed)\n",
    "\n",
    "# Print the Result\n",
    "print(f\"Chi-Square Statistics:{chi2_stat}\")\n",
    "print(f\"P-Value:{p_val}\")\n",
    "print(f\"Degree_OF_Freedom:{dof}\")\n",
    "print(\"Expected Frequnicies\")\n",
    "print(expected)\n",
    "\n",
    "# Conclusion :\n",
    "alpha = 0.05\n",
    "if p_val < alpha :\n",
    "    print(\"Reject the Null Hypothesis :There is a significant association between outcomes and groups\")\n",
    "else :\n",
    "    print(\"Failed To Reject the Null Hypothesis :There is no significant association between outcomes and groups\")"
   ]
  },
  {
   "cell_type": "markdown",
   "id": "7a0617b6-ecba-45b0-ac5f-39b5748132fd",
   "metadata": {},
   "source": [
    "Q4. A study of the prevalence of smoking in a population of 500 individuals found that 60 individuals\n",
    "smoked. Use Python to calculate the 95% confidence interval for the true proportion of individuals in the\n",
    "population who smoke . "
   ]
  },
  {
   "cell_type": "code",
   "execution_count": 1,
   "id": "9c1af1f9-656f-472b-973b-f30eca8bf90a",
   "metadata": {},
   "outputs": [
    {
     "name": "stdout",
     "output_type": "stream",
     "text": [
      "95% Confidence Interval for the True Proportion of Smoker:1.9315,1.9885 \n"
     ]
    }
   ],
   "source": [
    "import math \n",
    "\n",
    "# Given Data \n",
    "n = 500 # Total Sample Size :\n",
    "x = 60 # Number who Smoke :\n",
    "\n",
    "\n",
    "# Calculate the Sample Proportion \n",
    "p_hat = x/n\n",
    "\n",
    "# Calculate the Standard Error :\n",
    "SE = math.sqrt(p_hat * (1 - p_hat) / n)\n",
    "\n",
    "# Calculate the Z-Score for the 95% confidence Interval :\n",
    "z_score = 1.96 # For 95% Confidence Level :\n",
    "\n",
    "# Calculate the Margin Of Error :\n",
    "ME = z_score * SE\n",
    "\n",
    "# Calculate the Confidence Interval :\n",
    "lower_bound = z_score - ME\n",
    "upper_bound = z_score + ME\n",
    "\n",
    "# Print the Result \n",
    "print(f\"95% Confidence Interval for the True Proportion of Smoker:{lower_bound:.4f},{upper_bound:.4f} \")"
   ]
  },
  {
   "cell_type": "markdown",
   "id": "4aaaebb2-ca95-4bd3-aa25-02e383c6977f",
   "metadata": {},
   "source": [
    "Q5. Calculate the 90% confidence interval for a sample of data with a mean of 75 and a standard deviation\n",
    "of 12 using Python. Interpret the results."
   ]
  },
  {
   "cell_type": "code",
   "execution_count": 8,
   "id": "245613d4-017c-49c6-806a-6c3d0644e0e2",
   "metadata": {},
   "outputs": [
    {
     "name": "stdout",
     "output_type": "stream",
     "text": [
      "90% Confidence Interval :73.03,76.97\n"
     ]
    }
   ],
   "source": [
    "import scipy.stats as stats\n",
    "import math\n",
    "\n",
    "# Given Data \n",
    "mean = 75\n",
    "std_dev = 12\n",
    "confidence_interval = 0.90 \n",
    "\n",
    "# Sample Size(n) is not Given,assume large enough for z* to be Close to 1.645(90% Confidence Level)\n",
    "n = 100 # Assuming n = 100\n",
    "\n",
    "# Calculate the Critical Value for the 90% confidence Interval:\n",
    "z_score = stats.norm.ppf((1 + confidence_interval) /2)\n",
    "\n",
    "# Calculate the Standard Error :\n",
    "SE =  std_dev / math.sqrt(n)\n",
    "\n",
    "# Calculate the Margin of Error :\n",
    "ME = z_score * SE\n",
    "\n",
    "# Calculate the Confidence Interval \n",
    "lower_bound = mean - ME\n",
    "upper_bound = mean + ME\n",
    "\n",
    "# print the Result \n",
    "print(f\"90% Confidence Interval :{lower_bound:.2f},{upper_bound:.2f}\")\n",
    "\n",
    "#Interpretation:\n",
    "# Interpretation:\n",
    "#This means that we are 90% confident that the true population mean (μ) lies between 72.95 and 77.05.\n",
    "#This interval provides a range of values within which we expect the population mean to fall with a confidence level of 90%"
   ]
  },
  {
   "cell_type": "markdown",
   "id": "678699c8-99db-428b-8a60-22c6494c56a0",
   "metadata": {},
   "source": [
    "Q6. Use Python to plot the chi-square distribution with 10 degrees of freedom. Label the axes and shade the\n",
    "area corresponding to a chi-square statistic of 15."
   ]
  },
  {
   "cell_type": "code",
   "execution_count": 11,
   "id": "5cd10ddd-ca83-4ad0-be80-7b85c5fcea3d",
   "metadata": {},
   "outputs": [
    {
     "data": {
      "image/png": "[encoded data removed]",
      "text/plain": [
       "<Figure size 800x600 with 1 Axes>"
      ]
     },
     "metadata": {},
     "output_type": "display_data"
    }
   ],
   "source": [
    "import numpy as np\n",
    "import matplotlib.pyplot as plt\n",
    "import scipy.stats as stats\n",
    "\n",
    "# Degree of Freedom\n",
    "df = 10\n",
    "\n",
    "# Generate the Value of X for the Chi-Square Distribution \n",
    "x = np.linspace(0,30,500) # Adjust the Range Based on the Distribution \n",
    "\n",
    "# Calculate the Chi-Square Value for the X-value\n",
    "y = stats.chi2.pdf(x,df)\n",
    "\n",
    "# Create the Plot\n",
    "plt.figure(figsize=(8,6))\n",
    "plt.plot(x,y,'-b',label=f\"-Chi-Square Distribution (df={df})\")\n",
    "\n",
    "# Shade the Area for the Chi-Square Statistics of 15\n",
    "x_fill = np.linspace(0,30,500)\n",
    "y_fill = stats.chi2.pdf(x_fill , df)\n",
    "plt.fill_between(x_fill , y_fill,color='orange',alpha = 0.3 , label = \"Chi-Square = 15\")\n",
    "\n",
    "# Labeling the Plot\n",
    "plt.title(f'Chi-Square Distribution with {df} Degree of Freedom')\n",
    "plt.xlabel(\"Chi-Square Value\")\n",
    "plt.ylabel(\"Probbality Distribution Function\")\n",
    "plt.legend()\n",
    "\n",
    "# Show the Plot\n",
    "plt.grid(True)\n",
    "plt.show()"
   ]
  },
  {
   "cell_type": "markdown",
   "id": "849c8fdb-8da5-4448-8169-63574e619c65",
   "metadata": {},
   "source": [
    "Q7. A random sample of 1000 people was asked if they preferred Coke or Pepsi. Of the sample, 520\n",
    "preferred Coke. Calculate a 99% confidence interval for the true proportion of people in the population who\n",
    "prefer Coke."
   ]
  },
  {
   "cell_type": "code",
   "execution_count": 13,
   "id": "d71f4d74-87eb-4f59-a7dd-eed132a1e3e4",
   "metadata": {},
   "outputs": [
    {
     "name": "stdout",
     "output_type": "stream",
     "text": [
      "99% Confidence Interval of True population Who prefferd the Coke:0.479,0.561\n"
     ]
    }
   ],
   "source": [
    "import scipy.stats as stats\n",
    "import math\n",
    "\n",
    "# Given Data\n",
    "n = 1000 # Sample Size\n",
    "x = 520 # Number of People who Prefferd the Coke\n",
    "\n",
    "# Calculate the Sample Proportion \n",
    "p_hat =  x / n\n",
    "\n",
    "# Calculate the Standard Error :\n",
    "SE = math.sqrt(p_hat * (1-p_hat) / n)\n",
    "\n",
    "# Calculate the Z-Score for the 99% confidence interval :\n",
    "confidence_level = 0.99\n",
    "alpha = 1 - confidence_level\n",
    "z_score = stats.norm.ppf(1-alpha/2)\n",
    "\n",
    "# Calculate the Margin of the Error\n",
    "ME = z_score * SE\n",
    "\n",
    "# Calculate the Confidence Interval\n",
    "lower_bound = p_hat - ME\n",
    "upper_bound = p_hat + ME\n",
    "\n",
    "# Print the Results\n",
    "print(f\"99% Confidence Interval of True population Who prefferd the Coke:{lower_bound:.3f},{upper_bound:.3f}\")"
   ]
  },
  {
   "cell_type": "markdown",
   "id": "32fa7f05-1fec-4847-81df-0206ed56e2a0",
   "metadata": {},
   "source": [
    "Q8. A researcher hypothesizes that a coin is biased towards tails. They flip the coin 100 times and observe\n",
    "45 tails. Conduct a chi-square goodness of fit test to determine if the observed frequencies match the\n",
    "expected frequencies of a fair coin. Use a significance level of 0.05.\n"
   ]
  },
  {
   "cell_type": "code",
   "execution_count": 3,
   "id": "a2c8cb92-edcd-4021-9f2e-88326b496749",
   "metadata": {},
   "outputs": [
    {
     "name": "stdout",
     "output_type": "stream",
     "text": [
      "Chi-Square Statistics :1.0\n",
      "Degree of Freedom :1\n",
      "P-Value :0.31731050786291415\n",
      "Critical Value(alpha = 0.05)3.841458820694124\n",
      "Failed to Reject The Null Hypothesis : The Coin is Fair\n"
     ]
    }
   ],
   "source": [
    "import math\n",
    "import numpy as np\n",
    "from scipy.stats import chi2 \n",
    "\n",
    "# Observed Frequencies \n",
    "observed_tails  = 45\n",
    "total_flips = 100\n",
    "\n",
    "# Expected Frequencies under the Null(H0) Hypothesis (Fair Coin) \n",
    "expected_tails = total_flips * 0.5\n",
    "expected_heads = total_flips * 0.5\n",
    "\n",
    "# Calculating the Chi-Square Statistics :\n",
    "observed = np.array([observed_tails , total_flips - observed_tails])\n",
    "expected = np.array([expected_tails , expected_heads])\n",
    "\n",
    "chi_squared_stat = np.sum((observed - expected) ** 2 / expected)\n",
    "\n",
    "# Degree of Freedom\n",
    "df = 1 # since We have to Categories(Head ,Tails) df = 2-1 = 1\n",
    "\n",
    "# Calculate the P-value\n",
    "p_value = 1 - chi2.cdf(chi_squared_stat , df )\n",
    "\n",
    "# Critcial Value for the Significance Level 0.05\n",
    "alpha = 0.05\n",
    "critical_value = chi2.ppf(1-alpha , df)\n",
    "\n",
    "# Print the Result\n",
    "print(f\"Chi-Square Statistics :{chi_squared_stat}\")\n",
    "print(f\"Degree of Freedom :{df}\")\n",
    "print(f\"P-Value :{p_value}\")\n",
    "print(f\"Critical Value(alpha = 0.05){critical_value}\")\n",
    "\n",
    "# Compare the Chi-Square Stats with Critical Value :\n",
    "if chi_squared_stat > critical_value:\n",
    "    print(\"Reject the Null Hypothesis : The Coin Baised Toward Tail\")\n",
    "else :\n",
    "    print(\"Failed to Reject The Null Hypothesis : The Coin is Fair\")"
   ]
  },
  {
   "cell_type": "markdown",
   "id": "dc0946a8-b50b-4757-833f-327e9df48654",
   "metadata": {},
   "source": [
    "Q9. A study was conducted to determine if there is an association between smoking status (smoker or\n",
    "non-smoker) and lung cancer diagnosis (yes or no). The results are shown in the contingency table below.\n",
    "Conduct a chi-square test for independence to determine if there is a significant association between\n",
    "smoking status and lung cancer diagnosis. \n",
    "Lung Cancer: Yes\n",
    "Smoker 60 ,140\n",
    "Non-smoker 30 ,170\n",
    "Lung Cancer: No"
   ]
  },
  {
   "cell_type": "code",
   "execution_count": 6,
   "id": "fa29b02b-1d8e-4ed2-851f-e35aec0545fb",
   "metadata": {},
   "outputs": [
    {
     "name": "stdout",
     "output_type": "stream",
     "text": [
      "Chi-Square Statistics : 12.057347670250895\n",
      "P-Value:0.0005158863863703744\n",
      "Degree of Freedom:1\n",
      "Expected Frequencies\n",
      "[[ 45. 155.]\n",
      " [ 45. 155.]]\n",
      "Reject the Null Hypothesis:There is a significant association between smoking status and lung cancer diagnosis\n"
     ]
    }
   ],
   "source": [
    "import numpy as np\n",
    "from scipy.stats import chi2_contingency\n",
    "\n",
    "# Observed Frequency :\n",
    "observed = np.array([[60,140],[30,170]])\n",
    "\n",
    "# Perform chi-Square Test for Independence \n",
    "chi2 , p , dof , expected = chi2_contingency(observed)\n",
    "\n",
    "# Print the Result\n",
    "print(f\"Chi-Square Statistics : {chi2}\")\n",
    "print(f\"P-Value:{p}\")\n",
    "print(f\"Degree of Freedom:{dof}\")\n",
    "print(\"Expected Frequencies\")\n",
    "print(expected)\n",
    "\n",
    "# Interpret the Result\n",
    "alpha = 0.05\n",
    "if p < alpha :\n",
    "    print(\"Reject the Null Hypothesis:There is a significant association between smoking status and lung cancer diagnosis\")\n",
    "else :\n",
    "    print(\"Failed to Reject the Null Hypothesis:There is a No significant association between smoking status and lung cancer diagnosis\")"
   ]
  },
  {
   "cell_type": "markdown",
   "id": "2d47a448-098f-4697-a48b-4e283e070960",
   "metadata": {},
   "source": [
    "Q10. A study was conducted to determine if the proportion of people who prefer milk chocolate, dark\n",
    "chocolate, or white chocolate is different in the U.S. versus the U.K. A random sample of 500 people from\n",
    "the U.S. and a random sample of 500 people from the U.K. were surveyed. The results are shown in the\n",
    "contingency table below. Conduct a chi-square test for independence to determine if there is a significant\n",
    "association between chocolate preference and country of origin.\n",
    "Milk Chocolate\n",
    "U.S. (n=500) 200 150 150\n",
    "U.K. (n=500) 225 175 100\n",
    "Dark Chocolate White Chocolate"
   ]
  },
  {
   "cell_type": "code",
   "execution_count": 10,
   "id": "3dc51656-bb11-4f74-be7c-674931889e36",
   "metadata": {},
   "outputs": [
    {
     "name": "stdout",
     "output_type": "stream",
     "text": [
      "Chi-Square Statistics:13.393665158371041\n",
      "Degree of Freedom:0.0012348168997745918\n",
      "P-Value:2\n",
      "Expected Frequencies\n",
      "[[212.5 162.5 125. ]\n",
      " [212.5 162.5 125. ]]\n",
      "Failed to Reject the Null Hyothesis:There is a significant association between chocolate preference and country of origin\n"
     ]
    }
   ],
   "source": [
    "import numpy as np\n",
    "from scipy.stats import chi2_contingency\n",
    "\n",
    "# Observed Frequency from the Contigency Table\n",
    "observed = np.array([[200,150,150],\n",
    "                    [225,175,100]])\n",
    "\n",
    "# Perfrom the Chi-Square Test for the Independence :\n",
    "chi2, dof , p , expected = chi2_contingency(observed)\n",
    "\n",
    "# Print the Result\n",
    "print(f\"Chi-Square Statistics:{chi2}\")\n",
    "print(f\"Degree of Freedom:{dof}\")\n",
    "print(f\"P-Value:{p}\")\n",
    "print(\"Expected Frequencies\")\n",
    "print(expected)\n",
    "\n",
    "# Interpret the Result:\n",
    "alpha = 0.01\n",
    "if p < alpha :\n",
    "    print(\"Reject the Null Hypothesis:There is a significant association between chocolate preference and country of origin.\")\n",
    "else :\n",
    "    print(\"Failed to Reject the Null Hyothesis:There is a significant association between chocolate preference and country of origin\")"
   ]
  },
  {
   "cell_type": "markdown",
   "id": "efb04170-326a-4826-aabc-20323dc4d62a",
   "metadata": {},
   "source": [
    "Q11. A random sample of 30 people was selected from a population with an unknown mean and standard\n",
    "deviation. The sample mean was found to be 72 and the sample standard deviation was found to be 10.\n",
    "Conduct a hypothesis test to determine if the population mean is significantly different from 70. Use a\n",
    "significance level of 0.05."
   ]
  },
  {
   "cell_type": "code",
   "execution_count": 13,
   "id": "7cf4faa2-3e7b-4a92-a709-32bb3eb66144",
   "metadata": {},
   "outputs": [
    {
     "name": "stdout",
     "output_type": "stream",
     "text": [
      "Sample Mean :72\n",
      "Population Mean :70\n",
      "Sample_Size:30\n",
      "Sample Standard Deviation:10\n",
      "Degree of Freedom:29\n",
      "T-Statistics:1.0954451150103321\n",
      "Critical_Value:2.045229642132703\n",
      "Failed To Reject the Null Hypothesis\n"
     ]
    }
   ],
   "source": [
    "import numpy as np\n",
    "import scipy.stats as stats\n",
    "\n",
    "# Sample Data :\n",
    "sample_mean = 72\n",
    "sample_std_dev = 10\n",
    "sample_size = 30\n",
    "population_mean = 70\n",
    "alpha = 0.05 # Significance Level :\n",
    "\n",
    "# Calculate the T-Statistics :\n",
    "t_statistic = (sample_mean - population_mean) / (sample_std_dev / np.sqrt(sample_size)) \n",
    "\n",
    "# Calculate the Degree of Freedom \n",
    "df = sample_size - 1\n",
    "\n",
    "# Calculate the Critical-Value for the Two-Tailed Test\n",
    "t_critical = stats.t.ppf(1-alpha /2 , df)\n",
    "\n",
    "# Print the Results :\n",
    "print(f\"Sample Mean :{sample_mean}\")\n",
    "print(f\"Population Mean :{population_mean}\")\n",
    "print(f\"Sample_Size:{sample_size}\")\n",
    "print(f\"Sample Standard Deviation:{sample_std_dev}\")\n",
    "print(f\"Degree of Freedom:{df}\")\n",
    "print(f\"T-Statistics:{t_statistic}\")\n",
    "print(f\"Critical_Value:{t_critical}\")\n",
    "\n",
    "# Conducting the Hypothesis Testing :\n",
    "if np.abs(t_statistic) > (critical_value):\n",
    "    print(\"Reject the Null Hpothesis\")\n",
    "else :\n",
    "    print(\"Failed To Reject the Null Hypothesis\")"
   ]
  },
  {
   "cell_type": "code",
   "execution_count": null,
   "id": "8296acc1-14b3-4425-9bfc-932618c97124",
   "metadata": {},
   "outputs": [],
   "source": []
  }
 ],
 "metadata": {
  "kernelspec": {
   "display_name": "Python 3 (ipykernel)",
   "language": "python",
   "name": "python3"
  },
  "language_info": {
   "codemirror_mode": {
    "name": "ipython",
    "version": 3
   },
   "file_extension": ".py",
   "mimetype": "text/x-python",
   "name": "python",
   "nbconvert_exporter": "python",
   "pygments_lexer": "ipython3",
   "version": "3.10.8"
  }
 },
 "nbformat": 4,
 "nbformat_minor": 5
}
